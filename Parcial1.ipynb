{
 "cells": [
  {
   "cell_type": "code",
   "execution_count": 1,
   "id": "9f26a406-5bf9-4895-9270-29770615e2f2",
   "metadata": {},
   "outputs": [],
   "source": [
    "import pandas as pd\n",
    "from datetime import datetime\n",
    "from pandas_profiling import ProfileReport\n",
    "import matplotlib.pyplot as plt"
   ]
  },
  {
   "cell_type": "code",
   "execution_count": 2,
   "id": "d625a4a4-7bfd-4777-af61-aec36ec9cd16",
   "metadata": {},
   "outputs": [],
   "source": [
    "pd.set_option('display.max_columns', None)"
   ]
  },
  {
   "cell_type": "code",
   "execution_count": 24,
   "id": "58417265-6bcb-4ee4-b426-0be073dc198a",
   "metadata": {},
   "outputs": [],
   "source": [
    "df = pd.read_csv('./StudentsPerformance_exam1.csv')"
   ]
  },
  {
   "cell_type": "code",
   "execution_count": 6,
   "id": "3d4f0fa3-286d-466f-ae11-d163c98d547e",
   "metadata": {},
   "outputs": [
    {
     "data": {
      "text/plain": [
       "(1000, 8)"
      ]
     },
     "execution_count": 6,
     "metadata": {},
     "output_type": "execute_result"
    }
   ],
   "source": [
    "df.shape"
   ]
  },
  {
   "cell_type": "markdown",
   "id": "f1117da2-922c-42b3-86b7-c5e70b410c0d",
   "metadata": {},
   "source": [
    "## 1) ¿Qué tipo de variables tiene el dataset? Detalle el tipo de variable de cada columna.\n"
   ]
  },
  {
   "cell_type": "code",
   "execution_count": 8,
   "id": "58ae2b20-cf90-443e-916a-255af6fe5f8f",
   "metadata": {},
   "outputs": [
    {
     "data": {
      "text/plain": [
       "gender                          object\n",
       "race/ethnicity                  object\n",
       "parental level of education     object\n",
       "lunch                           object\n",
       "test preparation course         object\n",
       "math score                     float64\n",
       "reading score                  float64\n",
       "writing score                  float64\n",
       "dtype: object"
      ]
     },
     "execution_count": 8,
     "metadata": {},
     "output_type": "execute_result"
    }
   ],
   "source": [
    "df.dtypes"
   ]
  },
  {
   "cell_type": "code",
   "execution_count": 9,
   "id": "f0de1cb9-99e6-4870-be30-1d282bbe868b",
   "metadata": {},
   "outputs": [
    {
     "data": {
      "text/html": [
       "<div>\n",
       "<style scoped>\n",
       "    .dataframe tbody tr th:only-of-type {\n",
       "        vertical-align: middle;\n",
       "    }\n",
       "\n",
       "    .dataframe tbody tr th {\n",
       "        vertical-align: top;\n",
       "    }\n",
       "\n",
       "    .dataframe thead th {\n",
       "        text-align: right;\n",
       "    }\n",
       "</style>\n",
       "<table border=\"1\" class=\"dataframe\">\n",
       "  <thead>\n",
       "    <tr style=\"text-align: right;\">\n",
       "      <th></th>\n",
       "      <th>gender</th>\n",
       "      <th>race/ethnicity</th>\n",
       "      <th>parental level of education</th>\n",
       "      <th>lunch</th>\n",
       "      <th>test preparation course</th>\n",
       "      <th>math score</th>\n",
       "      <th>reading score</th>\n",
       "      <th>writing score</th>\n",
       "    </tr>\n",
       "  </thead>\n",
       "  <tbody>\n",
       "    <tr>\n",
       "      <th>0</th>\n",
       "      <td>non-binary</td>\n",
       "      <td>group B</td>\n",
       "      <td>bachelor's degree</td>\n",
       "      <td>standard</td>\n",
       "      <td>none</td>\n",
       "      <td>72.0</td>\n",
       "      <td>72.0</td>\n",
       "      <td>NaN</td>\n",
       "    </tr>\n",
       "    <tr>\n",
       "      <th>1</th>\n",
       "      <td>female</td>\n",
       "      <td>group C</td>\n",
       "      <td>some college</td>\n",
       "      <td>standard</td>\n",
       "      <td>completed</td>\n",
       "      <td>69.0</td>\n",
       "      <td>90.0</td>\n",
       "      <td>88.0</td>\n",
       "    </tr>\n",
       "    <tr>\n",
       "      <th>2</th>\n",
       "      <td>female</td>\n",
       "      <td>group B</td>\n",
       "      <td>master's degree</td>\n",
       "      <td>standard</td>\n",
       "      <td>none</td>\n",
       "      <td>90.0</td>\n",
       "      <td>95.0</td>\n",
       "      <td>93.0</td>\n",
       "    </tr>\n",
       "    <tr>\n",
       "      <th>3</th>\n",
       "      <td>male</td>\n",
       "      <td>group A</td>\n",
       "      <td>associate's degree</td>\n",
       "      <td>free/reduced</td>\n",
       "      <td>none</td>\n",
       "      <td>NaN</td>\n",
       "      <td>57.0</td>\n",
       "      <td>44.0</td>\n",
       "    </tr>\n",
       "    <tr>\n",
       "      <th>4</th>\n",
       "      <td>male</td>\n",
       "      <td>group C</td>\n",
       "      <td>some college</td>\n",
       "      <td>standard</td>\n",
       "      <td>none</td>\n",
       "      <td>76.0</td>\n",
       "      <td>78.0</td>\n",
       "      <td>75.0</td>\n",
       "    </tr>\n",
       "  </tbody>\n",
       "</table>\n",
       "</div>"
      ],
      "text/plain": [
       "       gender race/ethnicity parental level of education         lunch  \\\n",
       "0  non-binary        group B           bachelor's degree      standard   \n",
       "1      female        group C                some college      standard   \n",
       "2      female        group B             master's degree      standard   \n",
       "3        male        group A          associate's degree  free/reduced   \n",
       "4        male        group C                some college      standard   \n",
       "\n",
       "  test preparation course  math score  reading score  writing score  \n",
       "0                    none        72.0           72.0            NaN  \n",
       "1               completed        69.0           90.0           88.0  \n",
       "2                    none        90.0           95.0           93.0  \n",
       "3                    none         NaN           57.0           44.0  \n",
       "4                    none        76.0           78.0           75.0  "
      ]
     },
     "execution_count": 9,
     "metadata": {},
     "output_type": "execute_result"
    }
   ],
   "source": [
    "df.head()"
   ]
  },
  {
   "cell_type": "code",
   "execution_count": 13,
   "id": "7bda155c-5d7c-4937-8978-99e15981ce9f",
   "metadata": {},
   "outputs": [
    {
     "data": {
      "text/plain": [
       "array(['non-binary', 'female', 'male', nan], dtype=object)"
      ]
     },
     "execution_count": 13,
     "metadata": {},
     "output_type": "execute_result"
    }
   ],
   "source": [
    "df['gender'].unique()"
   ]
  },
  {
   "cell_type": "code",
   "execution_count": 14,
   "id": "2a5fcd33-4625-4f4f-a914-3f7c18923ba4",
   "metadata": {},
   "outputs": [
    {
     "data": {
      "text/plain": [
       "array(['group B', 'group C', 'group A', 'group D', 'group E', nan],\n",
       "      dtype=object)"
      ]
     },
     "execution_count": 14,
     "metadata": {},
     "output_type": "execute_result"
    }
   ],
   "source": [
    "df['race/ethnicity'].unique()"
   ]
  },
  {
   "cell_type": "code",
   "execution_count": 15,
   "id": "242a4b84-2b29-4592-80ba-0b39f9b65fda",
   "metadata": {},
   "outputs": [
    {
     "data": {
      "text/plain": [
       "array([\"bachelor's degree\", 'some college', \"master's degree\",\n",
       "       \"associate's degree\", 'high school', 'some high school', nan],\n",
       "      dtype=object)"
      ]
     },
     "execution_count": 15,
     "metadata": {},
     "output_type": "execute_result"
    }
   ],
   "source": [
    "df['parental level of education'].unique()"
   ]
  },
  {
   "cell_type": "code",
   "execution_count": 16,
   "id": "bfd30043-faf5-4df1-8fd5-65b53190f221",
   "metadata": {},
   "outputs": [
    {
     "data": {
      "text/plain": [
       "array(['standard', 'free/reduced', nan], dtype=object)"
      ]
     },
     "execution_count": 16,
     "metadata": {},
     "output_type": "execute_result"
    }
   ],
   "source": [
    "df['lunch'].unique()"
   ]
  },
  {
   "cell_type": "code",
   "execution_count": 17,
   "id": "e46a7d20-4bb7-43c9-9070-6bab8e3de731",
   "metadata": {},
   "outputs": [
    {
     "data": {
      "text/plain": [
       "array(['none', 'completed', nan], dtype=object)"
      ]
     },
     "execution_count": 17,
     "metadata": {},
     "output_type": "execute_result"
    }
   ],
   "source": [
    "df['test preparation course'].unique()"
   ]
  },
  {
   "cell_type": "markdown",
   "id": "1115290d-9eee-4525-9768-9ebfdd47abd5",
   "metadata": {},
   "source": [
    "## 2) ¿Qué tipo de problemas de calidad de datos logra identificar? Defina e implemente las estrategias de limpieza de datos que correspondan."
   ]
  },
  {
   "cell_type": "code",
   "execution_count": 25,
   "id": "b97c6150-41c2-4473-b88d-436ff088e126",
   "metadata": {},
   "outputs": [
    {
     "data": {
      "text/plain": [
       "47"
      ]
     },
     "execution_count": 25,
     "metadata": {},
     "output_type": "execute_result"
    }
   ],
   "source": [
    "df['gender'].isnull().sum()"
   ]
  },
  {
   "cell_type": "code",
   "execution_count": 31,
   "id": "6de18638-373f-4d2b-9771-2500a06f15fa",
   "metadata": {},
   "outputs": [],
   "source": [
    "df['gender'].fillna(\"not reported\", inplace = True)"
   ]
  },
  {
   "cell_type": "code",
   "execution_count": 29,
   "id": "dc37ca2f-71d4-43a9-848a-75198638c9dc",
   "metadata": {},
   "outputs": [
    {
     "data": {
      "text/plain": [
       "0"
      ]
     },
     "execution_count": 29,
     "metadata": {},
     "output_type": "execute_result"
    }
   ],
   "source": [
    "df['gender'].isnull().sum()"
   ]
  },
  {
   "cell_type": "code",
   "execution_count": 33,
   "id": "41b0035a-74d4-4fac-8c97-deb2f5ad727d",
   "metadata": {},
   "outputs": [],
   "source": [
    "df['race/ethnicity'].fillna(\"not reported\", inplace = True)"
   ]
  },
  {
   "cell_type": "code",
   "execution_count": 35,
   "id": "2d30f3d6-ef14-4c68-8ae9-a85c008040b9",
   "metadata": {},
   "outputs": [],
   "source": [
    "df['parental level of education'].fillna(\"not reported\", inplace = True)"
   ]
  },
  {
   "cell_type": "code",
   "execution_count": 37,
   "id": "fdfe64c8-84cb-44c2-8a92-d004e9582738",
   "metadata": {},
   "outputs": [],
   "source": [
    "df['test preparation course'].fillna(\"not reported\", inplace = True)"
   ]
  },
  {
   "cell_type": "code",
   "execution_count": 46,
   "id": "6dedba5f-b91a-44aa-9681-566797282d3b",
   "metadata": {},
   "outputs": [
    {
     "data": {
      "text/plain": [
       "66.12012"
      ]
     },
     "execution_count": 46,
     "metadata": {},
     "output_type": "execute_result"
    }
   ],
   "source": [
    "df['math score'].mean(axis = 0, skipna = False)"
   ]
  },
  {
   "cell_type": "code",
   "execution_count": 39,
   "id": "28792c35-92f0-4e02-9cfc-187b95abeffb",
   "metadata": {},
   "outputs": [],
   "source": [
    "df['math score'].fillna(66.12, inplace = True)"
   ]
  },
  {
   "cell_type": "code",
   "execution_count": 44,
   "id": "bfb2512f-d4a6-4287-b062-7a200989e1e7",
   "metadata": {},
   "outputs": [
    {
     "data": {
      "text/plain": [
       "69.257"
      ]
     },
     "execution_count": 44,
     "metadata": {},
     "output_type": "execute_result"
    }
   ],
   "source": [
    "df['reading score'].mean(axis = 0, skipna = False)"
   ]
  },
  {
   "cell_type": "code",
   "execution_count": 41,
   "id": "fe4fd2ee-d99c-4e2d-9c06-b0c350b4c325",
   "metadata": {},
   "outputs": [],
   "source": [
    "df['reading score'].fillna(69.25, inplace = True)"
   ]
  },
  {
   "cell_type": "code",
   "execution_count": 47,
   "id": "81b41952-0503-4d7e-a343-ed3b41ebc7fb",
   "metadata": {},
   "outputs": [
    {
     "data": {
      "text/plain": [
       "68.18182"
      ]
     },
     "execution_count": 47,
     "metadata": {},
     "output_type": "execute_result"
    }
   ],
   "source": [
    "df['writing score'].mean(axis = 0, skipna = False)"
   ]
  },
  {
   "cell_type": "code",
   "execution_count": 43,
   "id": "1fb6aeff-7fde-4332-823b-00a8ca819f78",
   "metadata": {},
   "outputs": [],
   "source": [
    "df['writing score'].fillna(68.18, inplace = True)"
   ]
  },
  {
   "cell_type": "markdown",
   "id": "f17acf84-9b5d-4249-98a8-111dbf1c2d22",
   "metadata": {},
   "source": [
    "### Reemplazo valores en parental level"
   ]
  },
  {
   "cell_type": "code",
   "execution_count": 48,
   "id": "9c527261-f6b1-4ba5-b8cc-3a2bfe8d141b",
   "metadata": {},
   "outputs": [
    {
     "data": {
      "text/plain": [
       "array([\"bachelor's degree\", \"master's degree\", \"associate's degree\",\n",
       "       'high school', 'not reported'], dtype=object)"
      ]
     },
     "execution_count": 48,
     "metadata": {},
     "output_type": "execute_result"
    }
   ],
   "source": [
    "df['parental level of education'].replace({'some high school':'high school',\n",
    "                                             'some college':'bachelor\\'s degree'},inplace = True)\n",
    "df['parental level of education'].unique()"
   ]
  },
  {
   "cell_type": "markdown",
   "id": "17eb729b-6cd7-4a0d-9f4e-4bea943a8d65",
   "metadata": {},
   "source": [
    "## 3)¿En qué asignatura en promedio los estudiantes obtuvieron un mejor puntaje?"
   ]
  },
  {
   "cell_type": "code",
   "execution_count": 53,
   "id": "2ec184ca-4cd4-4d2b-80b7-c97ce224630b",
   "metadata": {},
   "outputs": [
    {
     "data": {
      "text/plain": [
       "66.12012000000006"
      ]
     },
     "execution_count": 53,
     "metadata": {},
     "output_type": "execute_result"
    }
   ],
   "source": [
    "df['math score'].mean()"
   ]
  },
  {
   "cell_type": "code",
   "execution_count": 54,
   "id": "392a853b-544f-491d-8212-421b59c30eac",
   "metadata": {},
   "outputs": [
    {
     "data": {
      "text/plain": [
       "69.257"
      ]
     },
     "execution_count": 54,
     "metadata": {},
     "output_type": "execute_result"
    }
   ],
   "source": [
    "df['reading score'].mean()"
   ]
  },
  {
   "cell_type": "code",
   "execution_count": 68,
   "id": "41511f4f-b5e3-4633-be98-b64f400d6d54",
   "metadata": {},
   "outputs": [
    {
     "data": {
      "text/plain": [
       "68.18182"
      ]
     },
     "execution_count": 68,
     "metadata": {},
     "output_type": "execute_result"
    }
   ],
   "source": [
    "df['writing score'].mean()"
   ]
  },
  {
   "cell_type": "code",
   "execution_count": 71,
   "id": "e20cb7f7-c9ba-4c1a-b9f0-1b477040f956",
   "metadata": {},
   "outputs": [
    {
     "data": {
      "text/plain": [
       "<AxesSubplot:>"
      ]
     },
     "execution_count": 71,
     "metadata": {},
     "output_type": "execute_result"
    },
    {
     "data": {
      "image/png": "[encoded data removed]",
      "text/plain": [
       "<Figure size 432x288 with 1 Axes>"
      ]
     },
     "metadata": {
      "needs_background": "light"
     },
     "output_type": "display_data"
    }
   ],
   "source": [
    "df.mean(numeric_only= True).plot(kind='bar')"
   ]
  },
  {
   "cell_type": "code",
   "execution_count": 64,
   "id": "ec6a0c26-8761-4551-9513-dc750e3ede88",
   "metadata": {},
   "outputs": [
    {
     "data": {
      "text/plain": [
       "<AxesSubplot:xlabel='gender'>"
      ]
     },
     "execution_count": 64,
     "metadata": {},
     "output_type": "execute_result"
    },
    {
     "data": {
      "image/png": "[encoded data removed]",
      "text/plain": [
       "<Figure size 432x288 with 1 Axes>"
      ]
     },
     "metadata": {
      "needs_background": "light"
     },
     "output_type": "display_data"
    }
   ],
   "source": [
    "df[['gender','math score', 'reading score', 'writing score']].groupby('gender').mean().plot(kind='bar')"
   ]
  },
  {
   "cell_type": "code",
   "execution_count": 65,
   "id": "88cbc304-836e-49d8-b788-afc16fcdecbe",
   "metadata": {},
   "outputs": [
    {
     "data": {
      "text/plain": [
       "<AxesSubplot:xlabel='parental level of education'>"
      ]
     },
     "execution_count": 65,
     "metadata": {},
     "output_type": "execute_result"
    },
    {
     "data": {
      "image/png": "[encoded data removed]",
      "text/plain": [
       "<Figure size 432x288 with 1 Axes>"
      ]
     },
     "metadata": {
      "needs_background": "light"
     },
     "output_type": "display_data"
    }
   ],
   "source": [
    "df[['parental level of education','math score', 'reading score', 'writing score']].groupby('parental level of education').mean().plot(kind='bar')"
   ]
  },
  {
   "cell_type": "code",
   "execution_count": 66,
   "id": "875a9031-a123-4f7f-9364-236d78b887f2",
   "metadata": {},
   "outputs": [
    {
     "data": {
      "text/plain": [
       "<AxesSubplot:xlabel='race/ethnicity'>"
      ]
     },
     "execution_count": 66,
     "metadata": {},
     "output_type": "execute_result"
    },
    {
     "data": {
      "image/png": "[encoded data removed]",
      "text/plain": [
       "<Figure size 432x288 with 1 Axes>"
      ]
     },
     "metadata": {
      "needs_background": "light"
     },
     "output_type": "display_data"
    }
   ],
   "source": [
    "df[['race/ethnicity','math score', 'reading score', 'writing score']].groupby('race/ethnicity').mean().plot(kind='bar')"
   ]
  },
  {
   "cell_type": "markdown",
   "id": "1ed7953d-eb88-4d0b-a7b7-f3aefcb2d974",
   "metadata": {},
   "source": [
    "## ¿Existe alguna correlación entre los puntajes obtenidos en las tres asignaturas?"
   ]
  },
  {
   "cell_type": "code",
   "execution_count": 74,
   "id": "4e636172-e6df-46fc-be8b-dc8ea16547ca",
   "metadata": {},
   "outputs": [
    {
     "data": {
      "text/html": [
       "<div>\n",
       "<style scoped>\n",
       "    .dataframe tbody tr th:only-of-type {\n",
       "        vertical-align: middle;\n",
       "    }\n",
       "\n",
       "    .dataframe tbody tr th {\n",
       "        vertical-align: top;\n",
       "    }\n",
       "\n",
       "    .dataframe thead th {\n",
       "        text-align: right;\n",
       "    }\n",
       "</style>\n",
       "<table border=\"1\" class=\"dataframe\">\n",
       "  <thead>\n",
       "    <tr style=\"text-align: right;\">\n",
       "      <th></th>\n",
       "      <th>math score</th>\n",
       "      <th>reading score</th>\n",
       "      <th>writing score</th>\n",
       "    </tr>\n",
       "  </thead>\n",
       "  <tbody>\n",
       "    <tr>\n",
       "      <th>math score</th>\n",
       "      <td>1.000000</td>\n",
       "      <td>0.780656</td>\n",
       "      <td>0.752299</td>\n",
       "    </tr>\n",
       "    <tr>\n",
       "      <th>reading score</th>\n",
       "      <td>0.780656</td>\n",
       "      <td>1.000000</td>\n",
       "      <td>0.909290</td>\n",
       "    </tr>\n",
       "    <tr>\n",
       "      <th>writing score</th>\n",
       "      <td>0.752299</td>\n",
       "      <td>0.909290</td>\n",
       "      <td>1.000000</td>\n",
       "    </tr>\n",
       "  </tbody>\n",
       "</table>\n",
       "</div>"
      ],
      "text/plain": [
       "               math score  reading score  writing score\n",
       "math score       1.000000       0.780656       0.752299\n",
       "reading score    0.780656       1.000000       0.909290\n",
       "writing score    0.752299       0.909290       1.000000"
      ]
     },
     "execution_count": 74,
     "metadata": {},
     "output_type": "execute_result"
    }
   ],
   "source": [
    "pear_corr = df.corr()\n",
    "pear_corr"
   ]
  },
  {
   "cell_type": "code",
   "execution_count": 75,
   "id": "858f8dd8-87a3-4ce3-8383-96f2b8eeafd4",
   "metadata": {},
   "outputs": [
    {
     "data": {
      "text/plain": [
       "<matplotlib.colorbar.Colorbar at 0x1fa2f9b31f0>"
      ]
     },
     "execution_count": 75,
     "metadata": {},
     "output_type": "execute_result"
    },
    {
     "data": {
      "image/png": "[encoded data removed]",
      "text/plain": [
       "<Figure size 576x576 with 2 Axes>"
      ]
     },
     "metadata": {
      "needs_background": "light"
     },
     "output_type": "display_data"
    }
   ],
   "source": [
    "fig, ax = plt.subplots(figsize=(8,8))\n",
    "im = ax.imshow(pear_corr, interpolation='nearest')\n",
    "fig.colorbar(im, orientation='vertical', fraction = 0.05)"
   ]
  },
  {
   "cell_type": "markdown",
   "id": "608c9d1a-3303-445b-90c5-746de0dcd080",
   "metadata": {},
   "source": [
    "## 5) ¿Hay alguna diferencia observable en los puntajes de la asignatura de matemáticas entre géneros? ¿Qué género obtuvo en promedio los mejores puntajes?"
   ]
  },
  {
   "cell_type": "code",
   "execution_count": 84,
   "id": "19a9e2b0-7941-43b6-a4c3-3c587ade49e0",
   "metadata": {},
   "outputs": [],
   "source": [
    "def normalize(x):\n",
    "    print(x)\n",
    "    #return round(x / (df['math score'].mean()) *100,2)"
   ]
  },
  {
   "cell_type": "code",
   "execution_count": 91,
   "id": "2e9b8bd9-a81f-4344-9a14-124b35156933",
   "metadata": {},
   "outputs": [
    {
     "data": {
      "text/plain": [
       "<AxesSubplot:xlabel='gender'>"
      ]
     },
     "execution_count": 91,
     "metadata": {},
     "output_type": "execute_result"
    },
    {
     "data": {
      "image/png": "[encoded data removed]",
      "text/plain": [
       "<Figure size 432x288 with 1 Axes>"
      ]
     },
     "metadata": {
      "needs_background": "light"
     },
     "output_type": "display_data"
    }
   ],
   "source": [
    "df[['gender','math score']].groupby('gender').mean().plot(kind='bar')"
   ]
  },
  {
   "cell_type": "code",
   "execution_count": 109,
   "id": "d930a496-296c-4011-8d0b-9d0ab327efdb",
   "metadata": {},
   "outputs": [
    {
     "data": {
      "text/plain": [
       "gender\n",
       "female          63.583491\n",
       "male            68.522383\n",
       "non-binary      67.706014\n",
       "not reported    64.449362\n",
       "Name: math score, dtype: float64"
      ]
     },
     "execution_count": 109,
     "metadata": {},
     "output_type": "execute_result"
    }
   ],
   "source": [
    "#df.groupby('gender')['female'].mean()\n",
    "df.groupby('gender')['math score'].mean()"
   ]
  },
  {
   "cell_type": "markdown",
   "id": "91632447-bcb8-4241-bb8a-5ce0c1a19b58",
   "metadata": {},
   "source": [
    "## ¿Qué nivel de escolaridad tienen los padres de los estudiantes que obtuvieron un puntaje por encima del percentil 85 en la asignatura de escritura? ¿Cómo se distribuye la escolaridad entre esta población?"
   ]
  },
  {
   "cell_type": "code",
   "execution_count": 146,
   "id": "8a2c3a6e-e438-4849-88fb-8554e1c3907f",
   "metadata": {},
   "outputs": [
    {
     "data": {
      "text/plain": [
       "83.0"
      ]
     },
     "execution_count": 146,
     "metadata": {},
     "output_type": "execute_result"
    }
   ],
   "source": [
    "df['writing score'].quantile(0.85)"
   ]
  },
  {
   "cell_type": "code",
   "execution_count": 147,
   "id": "a751810a-d67e-42f8-9e43-fd582a43d9f3",
   "metadata": {},
   "outputs": [
    {
     "data": {
      "text/plain": [
       "array([\"bachelor's degree\", \"master's degree\", 'high school',\n",
       "       \"associate's degree\", 'not reported'], dtype=object)"
      ]
     },
     "execution_count": 147,
     "metadata": {},
     "output_type": "execute_result"
    }
   ],
   "source": [
    "df_percentile = df.loc[df['writing score'] > df['writing score'].quantile(0.85)]\n",
    "df_percentile['parental level of education'].unique()"
   ]
  },
  {
   "cell_type": "code",
   "execution_count": 148,
   "id": "7df49d58-4f9f-4585-86ab-6c501583c075",
   "metadata": {},
   "outputs": [
    {
     "data": {
      "text/plain": [
       "<AxesSubplot:xlabel='parental level of education'>"
      ]
     },
     "execution_count": 148,
     "metadata": {},
     "output_type": "execute_result"
    },
    {
     "data": {
      "image/png": "[encoded data removed]",
      "text/plain": [
       "<Figure size 432x288 with 1 Axes>"
      ]
     },
     "metadata": {
      "needs_background": "light"
     },
     "output_type": "display_data"
    }
   ],
   "source": [
    "df_percentile.groupby('parental level of education').size().plot(kind = \"bar\", stacked=True)"
   ]
  },
  {
   "cell_type": "code",
   "execution_count": 149,
   "id": "fe0bea4d-cf26-47c9-8eae-fcbe5c89a061",
   "metadata": {},
   "outputs": [],
   "source": [
    "df_percentile.insert(0,'cantidad', 1)"
   ]
  },
  {
   "cell_type": "code",
   "execution_count": 150,
   "id": "c01721f9-e118-4259-836b-8e9d81575935",
   "metadata": {},
   "outputs": [
    {
     "data": {
      "text/plain": [
       "<matplotlib.legend.Legend at 0x1fa2fb8a650>"
      ]
     },
     "execution_count": 150,
     "metadata": {},
     "output_type": "execute_result"
    },
    {
     "data": {
      "image/png": "[encoded data removed]",
      "text/plain": [
       "<Figure size 360x360 with 1 Axes>"
      ]
     },
     "metadata": {},
     "output_type": "display_data"
    }
   ],
   "source": [
    "plot_percentile = df_percentile[['parental level of education','cantidad']].groupby('parental level of education').sum()\n",
    "plot_percentile['PORCENTAJE'] = plot_percentile['cantidad']/plot_percentile['cantidad'].sum()*100\n",
    "plot_percentile.plot.pie(y='PORCENTAJE', figsize=(5, 5)).legend(loc='lower left')"
   ]
  },
  {
   "cell_type": "code",
   "execution_count": 128,
   "id": "f71b1f7c-8874-4a36-9839-655f3f48a4e2",
   "metadata": {},
   "outputs": [
    {
     "data": {
      "text/html": [
       "<div>\n",
       "<style scoped>\n",
       "    .dataframe tbody tr th:only-of-type {\n",
       "        vertical-align: middle;\n",
       "    }\n",
       "\n",
       "    .dataframe tbody tr th {\n",
       "        vertical-align: top;\n",
       "    }\n",
       "\n",
       "    .dataframe thead th {\n",
       "        text-align: right;\n",
       "    }\n",
       "</style>\n",
       "<table border=\"1\" class=\"dataframe\">\n",
       "  <thead>\n",
       "    <tr style=\"text-align: right;\">\n",
       "      <th></th>\n",
       "      <th>cantidad</th>\n",
       "      <th>PORCENTAJE</th>\n",
       "    </tr>\n",
       "    <tr>\n",
       "      <th>parental level of education</th>\n",
       "      <th></th>\n",
       "      <th></th>\n",
       "    </tr>\n",
       "  </thead>\n",
       "  <tbody>\n",
       "    <tr>\n",
       "      <th>associate's degree</th>\n",
       "      <td>36</td>\n",
       "      <td>24.657534</td>\n",
       "    </tr>\n",
       "    <tr>\n",
       "      <th>bachelor's degree</th>\n",
       "      <td>57</td>\n",
       "      <td>39.041096</td>\n",
       "    </tr>\n",
       "    <tr>\n",
       "      <th>high school</th>\n",
       "      <td>25</td>\n",
       "      <td>17.123288</td>\n",
       "    </tr>\n",
       "    <tr>\n",
       "      <th>master's degree</th>\n",
       "      <td>19</td>\n",
       "      <td>13.013699</td>\n",
       "    </tr>\n",
       "    <tr>\n",
       "      <th>not reported</th>\n",
       "      <td>9</td>\n",
       "      <td>6.164384</td>\n",
       "    </tr>\n",
       "  </tbody>\n",
       "</table>\n",
       "</div>"
      ],
      "text/plain": [
       "                             cantidad  PORCENTAJE\n",
       "parental level of education                      \n",
       "associate's degree                 36   24.657534\n",
       "bachelor's degree                  57   39.041096\n",
       "high school                        25   17.123288\n",
       "master's degree                    19   13.013699\n",
       "not reported                        9    6.164384"
      ]
     },
     "execution_count": 128,
     "metadata": {},
     "output_type": "execute_result"
    }
   ],
   "source": [
    "plot_percentile"
   ]
  },
  {
   "cell_type": "markdown",
   "id": "62c915df-80de-4f9a-aa7a-5437bd169b42",
   "metadata": {},
   "source": [
    "## 7) ¿Qué porcentaje de los estudiantes obtuvieron puntajes iguales o superiores a 90 en las tres asignaturas? De estos estudiantes¿que porcentaje estudió para los exámenes?"
   ]
  },
  {
   "cell_type": "code",
   "execution_count": 142,
   "id": "7df02546-35de-4c7d-9348-3d29fd7db495",
   "metadata": {},
   "outputs": [
    {
     "data": {
      "text/plain": [
       "19"
      ]
     },
     "execution_count": 142,
     "metadata": {},
     "output_type": "execute_result"
    }
   ],
   "source": [
    "df_prom_sup = df.loc[(df['writing score'] > 90) & (df['math score'] > 90) & (df['reading score'] > 90)]\n",
    "prom_sup = len(df_prom_sup)\n",
    "prom_sup"
   ]
  },
  {
   "cell_type": "code",
   "execution_count": 143,
   "id": "0f78dcf4-c6f1-4219-8de5-1a721644f2f5",
   "metadata": {},
   "outputs": [
    {
     "data": {
      "text/plain": [
       "1000"
      ]
     },
     "execution_count": 143,
     "metadata": {},
     "output_type": "execute_result"
    }
   ],
   "source": [
    "total = len(df)\n",
    "total"
   ]
  },
  {
   "cell_type": "code",
   "execution_count": 138,
   "id": "739b10f3-068c-45af-9a68-5d5c4a8bdce0",
   "metadata": {},
   "outputs": [
    {
     "data": {
      "text/plain": [
       "0.019"
      ]
     },
     "execution_count": 138,
     "metadata": {},
     "output_type": "execute_result"
    }
   ],
   "source": [
    "prom_sup/total"
   ]
  },
  {
   "cell_type": "code",
   "execution_count": 144,
   "id": "b23bfa96-346f-481f-b7b6-ffbe91b56a7f",
   "metadata": {},
   "outputs": [
    {
     "data": {
      "text/plain": [
       "array(['completed', 'none', 'not reported'], dtype=object)"
      ]
     },
     "execution_count": 144,
     "metadata": {},
     "output_type": "execute_result"
    }
   ],
   "source": [
    "df_prom_sup['test preparation course'].unique()"
   ]
  },
  {
   "cell_type": "code",
   "execution_count": 151,
   "id": "7f2dbe65-2a6e-4296-9eab-cf1199a3ca49",
   "metadata": {},
   "outputs": [],
   "source": [
    "df_prom_sup.insert(0,'cantidad', 1)"
   ]
  },
  {
   "cell_type": "code",
   "execution_count": 152,
   "id": "d880cbcf-d3da-4418-9b62-e3454225a0d8",
   "metadata": {},
   "outputs": [],
   "source": [
    "plot_prom_sup = df_prom_sup[['test preparation course','cantidad']].groupby('test preparation course').sum()\n",
    "plot_prom_sup['PORCENTAJE'] = plot_prom_sup['cantidad']/plot_prom_sup['cantidad'].sum()*100\n"
   ]
  },
  {
   "cell_type": "code",
   "execution_count": 153,
   "id": "b7eab8da-cc72-4250-91ef-1457aecc2110",
   "metadata": {},
   "outputs": [
    {
     "data": {
      "text/plain": [
       "<matplotlib.legend.Legend at 0x1fa345e34f0>"
      ]
     },
     "execution_count": 153,
     "metadata": {},
     "output_type": "execute_result"
    },
    {
     "data": {
      "image/png": "[encoded data removed]",
      "text/plain": [
       "<Figure size 360x360 with 1 Axes>"
      ]
     },
     "metadata": {},
     "output_type": "display_data"
    }
   ],
   "source": [
    "plot_prom_sup.plot.pie(y='PORCENTAJE', figsize=(5, 5)).legend(loc='lower left')"
   ]
  },
  {
   "cell_type": "code",
   "execution_count": 154,
   "id": "f62592d7-faac-402d-9aca-442f10c15933",
   "metadata": {},
   "outputs": [
    {
     "data": {
      "text/html": [
       "<div>\n",
       "<style scoped>\n",
       "    .dataframe tbody tr th:only-of-type {\n",
       "        vertical-align: middle;\n",
       "    }\n",
       "\n",
       "    .dataframe tbody tr th {\n",
       "        vertical-align: top;\n",
       "    }\n",
       "\n",
       "    .dataframe thead th {\n",
       "        text-align: right;\n",
       "    }\n",
       "</style>\n",
       "<table border=\"1\" class=\"dataframe\">\n",
       "  <thead>\n",
       "    <tr style=\"text-align: right;\">\n",
       "      <th></th>\n",
       "      <th>cantidad</th>\n",
       "      <th>PORCENTAJE</th>\n",
       "    </tr>\n",
       "    <tr>\n",
       "      <th>test preparation course</th>\n",
       "      <th></th>\n",
       "      <th></th>\n",
       "    </tr>\n",
       "  </thead>\n",
       "  <tbody>\n",
       "    <tr>\n",
       "      <th>completed</th>\n",
       "      <td>10</td>\n",
       "      <td>52.631579</td>\n",
       "    </tr>\n",
       "    <tr>\n",
       "      <th>none</th>\n",
       "      <td>8</td>\n",
       "      <td>42.105263</td>\n",
       "    </tr>\n",
       "    <tr>\n",
       "      <th>not reported</th>\n",
       "      <td>1</td>\n",
       "      <td>5.263158</td>\n",
       "    </tr>\n",
       "  </tbody>\n",
       "</table>\n",
       "</div>"
      ],
      "text/plain": [
       "                         cantidad  PORCENTAJE\n",
       "test preparation course                      \n",
       "completed                      10   52.631579\n",
       "none                            8   42.105263\n",
       "not reported                    1    5.263158"
      ]
     },
     "execution_count": 154,
     "metadata": {},
     "output_type": "execute_result"
    }
   ],
   "source": [
    "plot_prom_sup"
   ]
  },
  {
   "cell_type": "code",
   "execution_count": null,
   "id": "417afeeb-6a3c-4ed2-bde7-8316a438190b",
   "metadata": {},
   "outputs": [],
   "source": []
  }
 ],
 "metadata": {
  "kernelspec": {
   "display_name": "Python 3 (ipykernel)",
   "language": "python",
   "name": "python3"
  },
  "language_info": {
   "codemirror_mode": {
    "name": "ipython",
    "version": 3
   },
   "file_extension": ".py",
   "mimetype": "text/x-python",
   "name": "python",
   "nbconvert_exporter": "python",
   "pygments_lexer": "ipython3",
   "version": "3.10.4"
  }
 },
 "nbformat": 4,
 "nbformat_minor": 5
}
